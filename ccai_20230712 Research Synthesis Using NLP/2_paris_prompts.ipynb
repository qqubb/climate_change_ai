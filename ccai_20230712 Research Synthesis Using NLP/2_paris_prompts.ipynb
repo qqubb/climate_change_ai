{
  "cells": [
    {
      "cell_type": "code",
      "execution_count": null,
      "metadata": {
        "id": "bdhDIYYLYEdt"
      },
      "outputs": [],
      "source": [
        "# MIT License\n",
        "#\n",
        "#@title Copyright (c) 2023 CCAI Community Authors { display-mode: \"form\" }\n",
        "#\n",
        "# Permission is hereby granted, free of charge, to any person obtaining a\n",
        "# copy of this software and associated documentation files (the \"Software\"),\n",
        "# to deal in the Software without restriction, including without limitation\n",
        "# the rights to use, copy, modify, merge, publish, distribute, sublicense,\n",
        "# and/or sell copies of the Software, and to permit persons to whom the\n",
        "# Software is furnished to do so, subject to the following conditions:\n",
        "#\n",
        "# The above copyright notice and this permission notice shall be included in\n",
        "# all copies or substantial portions of the Software.\n",
        "#\n",
        "# THE SOFTWARE IS PROVIDED \"AS IS\", WITHOUT WARRANTY OF ANY KIND, EXPRESS OR\n",
        "# IMPLIED, INCLUDING BUT NOT LIMITED TO THE WARRANTIES OF MERCHANTABILITY,\n",
        "# FITNESS FOR A PARTICULAR PURPOSE AND NONINFRINGEMENT. IN NO EVENT SHALL\n",
        "# THE AUTHORS OR COPYRIGHT HOLDERS BE LIABLE FOR ANY CLAIM, DAMAGES OR OTHER\n",
        "# LIABILITY, WHETHER IN AN ACTION OF CONTRACT, TORT OR OTHERWISE, ARISING\n",
        "# FROM, OUT OF OR IN CONNECTION WITH THE SOFTWARE OR THE USE OR OTHER\n",
        "# DEALINGS IN THE SOFTWARE."
      ]
    },
    {
      "cell_type": "markdown",
      "metadata": {
        "id": "tMofQMXwYEd0"
      },
      "source": [
        "# NLP Models for Climate Policy Analysis Part 2: Prompts for Sustainable Development Goals\n",
        "\n",
        "\n",
        "Author(s):\n",
        "*   Daniel Spokoyny, Carnegie Mellon University, dspokoyn@cs.cmu.edu\n"
      ]
    },
    {
      "cell_type": "markdown",
      "metadata": {
        "id": "LsjMJcLUYEd5"
      },
      "source": [
        "# Table of Contents\n",
        "\n",
        "*   [Target Audience](#target-audience)\n",
        "*   [Overview](#overview)\n",
        "*   [Contributions](#contributions)\n",
        "*   [Software Requirements](#software-requirements)\n",
        "*   [Data Source](#data-source)\n",
        "*   [Simple Prompt](#simple-prompt)\n",
        "*   [In-Context Learning Prompts](#icl-prompt)"
      ]
    },
    {
      "cell_type": "markdown",
      "metadata": {
        "id": "kTp6KVCSYEeI"
      },
      "source": [
        "<a name=\"target-audience\"></a>\n",
        "# Target Audience\n",
        "\n",
        "* Climate scientists seeking to use large language models to tackle a domain-specific problem in climate change.\n",
        "* Data scientists with prior background in deep learning who are interested in building prompt-based large language model classifiers for climate texts."
      ]
    },
    {
      "cell_type": "markdown",
      "metadata": {
        "id": "swgT1RkgYEeM"
      },
      "source": [
        "<a name=\"Motivation\"></a>\n",
        "# Motivation\n",
        "\n",
        "The Paris Agreement is an international treaty on climate change that was adopted in 2015.\n",
        "One of the results of the treaty is that all participating countries are required to submit a Nationally Determined Contribution (NDC) report every five years.\n",
        "These reports include a variety of vital information, such as the country's current greenhouse gas emissions, their goals for reducing emissions, and the policies they plan to implement to achieve these goals.\n",
        "Since these reports are written in plain text and can be hundreds of pages long, many questions are difficult to answer automatically, such as:\n",
        "*   What are the most common policies that countries are implementing to reduce emissions?\n",
        "*   Which countries are on track to meet their goals?\n",
        "*   Which countries are falling behind?\n",
        "*   What are the most common barriers to reducing emissions?\n",
        "\n",
        "One way to better understand these reports would be to use a common framework to help organize the information.\n",
        "The Sustainable Development Goals (SDG) framework aims to provide a set of 17 climate goals (e.g. \"Affordable and Clean Energy\") with even more subgoals (or targets) that can be used to organize the information in the NDC reports.\n",
        "\n",
        "Climate Watch, is a project by the World Resources Institute that has manually aligned the unstructured texts of the Nationally Determined Contribution reports to the semi-structured Sustainable Development Goals (SDG) framework.\\footnote{https://www.climatewatchdata.org/}\n",
        "By doing so, Climate Watch allows for different stakeholders to more easily compare progress across countries and identify which areas need financing, education, policy changes or other resources.\n",
        "\n",
        "In this tutorial, we will build a prompt-based classifier and use this dataset to evaluate the performance of the classifier.\n",
        "Since, new documents are being updated, a tool that can automatically align NDC reports to the SDG framework would save a lot of time and effort."
      ]
    },
    {
      "cell_type": "markdown",
      "metadata": {
        "id": "kZIxv5nAYEeP"
      },
      "source": [
        "<a name=\"overview\"></a>\n",
        "# Overview: OpenAI Classification Extraction with Prompt Based In-Context Learning\n",
        "\n",
        "In this tutorial we will use the state of the art Large Language Models (LLMs) to classify climate policy documents.\n",
        "For the data we will work with the Nationally Determined Contributions (NDCs) documents from the Paris Climate Agreement. As the model we will use OpenAI's 'text-davinci-003' and attempt to use carefully crafted prompts to classify sentences from our dataset.\n",
        "\n",
        "While in the previous tutorial we were focused on training supervised NLP models for text classification, with the advent of LLMs a more recent paradigm, prompting, has emerged. Prompting allows for interfacing with a trained machine learning model using text as input and text as output.\n",
        "\n",
        "The rest of the tutorial is organized as follows\n",
        "\n",
        "(1) **Dataset**: We are going to load the dataset and get it ready for prompt classification. \\\n",
        "(2) **Prompting**: We are going to construct a simple prompt and use it to classify sentences. \\\n",
        "(3) **ICL**: We are going to add to the prompt in-context learning examples and also increase the context of the input text.\n"
      ]
    },
    {
      "cell_type": "markdown",
      "metadata": {
        "id": "crKdRineYEeR"
      },
      "source": [
        "<a name=\"contributions\"></a>\n",
        "# Contributions\n",
        "\n",
        "Through introductory presentations and colab notebooks, we aim to expose the participants to:\n",
        "\n",
        "(a) **Dataset**: Outlining a dataset of national climate action plans with corresponding annotations to the Sustainable Development Goals framwork. \\\n",
        "(b) **Prompting**: Designing prompts with in-context learning to perform novel text classification tasks. \\\n",
        "(c) **LLMs** Using large language models (LLMs) via python web-based APIs. \\"
      ]
    },
    {
      "cell_type": "markdown",
      "metadata": {
        "id": "LIJ8lyANYEeT"
      },
      "source": [
        "<a name=\"software-requirements\"></a>\n",
        "# Software Requirements\n",
        "This notebook requires the following libraries:\n",
        "*   datasets (pip)\n",
        "*   openai (pip)\n",
        "\n",
        "`datasets` is a library which we will use to download the data required.\n",
        "`openai` is a library from which we can access large language models via a python API. To use the model, you will need to sign up for an OpenAI Account (http://platform.openai.com/signup) and get an API key pasted below.\n"
      ]
    },
    {
      "cell_type": "code",
      "execution_count": null,
      "metadata": {
        "id": "mspefyudAIiK",
        "outputId": "b3baf9cd-5fe3-495b-b757-bde9f35d9d55"
      },
      "outputs": [
        {
          "name": "stderr",
          "output_type": "stream",
          "text": [
            "UsageError: Line magic function `%%capture` not found.\n"
          ]
        }
      ],
      "source": [
        "# We need to install the following packages to run the code in this notebook\n",
        "%%capture\n",
        "!pip install datasets\n",
        "!pip install openai"
      ]
    },
    {
      "cell_type": "code",
      "execution_count": null,
      "metadata": {
        "id": "3hwW0_nfYEeZ",
        "outputId": "1f407f7e-b0f6-4953-98ac-61ef046a0138"
      },
      "outputs": [
        {
          "name": "stderr",
          "output_type": "stream",
          "text": [
            "/home/dspokoyn/.cache/pypoetry/virtualenvs/tutorial-IHiCU4EY-py3.8/lib/python3.8/site-packages/tqdm/auto.py:21: TqdmWarning: IProgress not found. Please update jupyter and ipywidgets. See https://ipywidgets.readthedocs.io/en/stable/user_install.html\n",
            "  from .autonotebook import tqdm as notebook_tqdm\n"
          ]
        }
      ],
      "source": [
        "# Import libraries\n",
        "import openai\n",
        "import json\n",
        "from huggingface_hub import hf_hub_download\n",
        "from datasets import load_dataset"
      ]
    },
    {
      "cell_type": "code",
      "execution_count": null,
      "metadata": {
        "colab": {
          "base_uri": "https://localhost:8080/",
          "height": 101,
          "referenced_widgets": [
            "ab879f6b5c0e48e6a88fcef30c4a0dc5",
            "b60848d12d9d4743b648ebaf43122d87",
            "bdf310baec9e4bb292a616a1c9941b44",
            "cc76fa30bf2745899ebb1a4fdc108139",
            "af3ccb7b556948449f317600d1361158",
            "c866b6073eb54001aeede1a87f4c79a2",
            "5b515b9cf3be4941b350a11e24aa8c26",
            "daad8401c7b54fb98b488587d455d7e4",
            "e267c4404b5145fb9465d5a89e86da1b",
            "30058e6b100a4837b21bee31c619f7c7",
            "0a8d3c8e28964a2b83dbf16902bf35a3"
          ]
        },
        "id": "QmHtjYrnAIiL",
        "outputId": "4b197b33-8e37-4ccf-cb8f-da1817fb49df"
      },
      "outputs": [
        {
          "name": "stderr",
          "output_type": "stream",
          "text": [
            "Found cached dataset parquet (/home/dspokoyn/.cache/huggingface/datasets/dspoka___parquet/dspoka--sdg-single-c49077ade9802265/0.0.0/2a3b91fbd88a2c90d1dbbb32b460cf621d31bd5b05b934492fdef7d8d6f236ec)\n",
            "100%|██████████| 1/1 [00:00<00:00, 195.13it/s]"
          ]
        },
        {
          "name": "stdout",
          "output_type": "stream",
          "text": [
            "The dataset has 14219 rows and 13 columns\n",
            "The columns are: ['iso3' 'country' 'goal' 'target' 'text' 'status' 'sector' 'response'\n",
            " 'infotype' 'start' 'end' 'filename' '__index_level_0__']\n"
          ]
        },
        {
          "name": "stderr",
          "output_type": "stream",
          "text": [
            "\n"
          ]
        }
      ],
      "source": [
        "# This here is how we will load the SDG dataset from the HuggingFace Hub.\n",
        "# It has already been preprocessed for you to use.\n",
        "dataset = load_dataset(\"dspoka/sdg-single\")\n",
        "\n",
        "# Here we will transform the dataset into a pandas dataframe\n",
        "df_full = dataset['full'].to_pandas()\n",
        "\n",
        "print(f'The dataset has {df_full.shape[0]} rows and {df_full.shape[1]} columns')\n",
        "print(f'The columns are: {df_full.columns.values}')"
      ]
    },
    {
      "cell_type": "markdown",
      "metadata": {
        "id": "BMpnSBs8YEel"
      },
      "source": [
        "<a name=\"data-source\"></a>\n",
        "# Understanding the SDG Dataset\n",
        "- The important columns for us to know are 'goal', 'target', and 'text'.\n",
        "- The 'text' column is the raw text that was annotated in the NDC documents. We will feed this into our model and use it to predict the the label.\n",
        "- The 'goal' column is the SDG goal. We will use this as our main label for prediction.\n",
        "- Each SDG 'goal' also has sub-goals or 'target' as the name of the column.\n",
        "- Currently if you take a look the goals they are [\"1\",...,\"17\"]. Goal \"12\" make have a target \"12.2\".\n",
        "- What exactly does goal \"12\" stand for exactly? Well for this we need to take a look at the metadata.\n",
        "- Below, is an image that shows the 2030 progerss for the SDG goals and targets.\n",
        "![SDG Goals](https://unece.org/sites/default/files/styles/max_1300x1300/public/2021-03/Graphic%20EN%20_PR_SDG%20Report.png?itok=Mwuuj3c7)\n"
      ]
    },
    {
      "cell_type": "code",
      "execution_count": null,
      "metadata": {
        "id": "IWBRe-PSAIiM"
      },
      "outputs": [],
      "source": [
        "def unpack_and_explain_metadata(metadata):\n",
        "    '''Args:\n",
        "        metadata: dictionary containing the metadata for the dataset.\n",
        "    Returns:\n",
        "        goal_idx_2_description: dictionary mapping goal index to the text description of the goal.\n",
        "        goal_idx_2_goal_number: dictionary mapping goal index to the goal number. The goal number is what is currently in the dataset frame.\n",
        "        target_idx_2_description: dictionary mapping target index to the text description of the target.\n",
        "        target_idx_2_goal_idx: dictionary that maps a target index to the goal index. There are multiple targets per goal.\n",
        "        target_idx_2_target_number: dictionary that maps a target index to the target number. The target number is what is currently in the dataset frame.\n",
        "\n",
        "    '''\n",
        "    goal_idx_2_description = metadata['goal_idx_2_description']\n",
        "    goal_idx_2_description = {int(k):v for k,v in goal_idx_2_description.items()}\n",
        "\n",
        "    goal_idx_2_goal_number = metadata['goal_idx_2_goal_number']\n",
        "    goal_idx_2_goal_number = {int(k):v for k,v in goal_idx_2_goal_number.items()}\n",
        "\n",
        "    target_idx_2_description = metadata['target_idx_2_description']\n",
        "    target_idx_2_description = {int(k):v for k,v in target_idx_2_description.items()}\n",
        "\n",
        "    target_idx_2_goal_idx = metadata['target_idx_2_goal_idx']\n",
        "    target_idx_2_goal_idx = {int(k):int(v) for k,v in target_idx_2_goal_idx.items()}\n",
        "\n",
        "    target_idx_2_target_number = metadata['target_idx_2_target_number']\n",
        "    target_idx_2_target_number = {int(k):v for k,v in target_idx_2_target_number.items()}\n",
        "\n",
        "    return goal_idx_2_description, goal_idx_2_goal_number, target_idx_2_description, target_idx_2_goal_idx, target_idx_2_target_number\n",
        "\n",
        "\n",
        "# We will also download the metadata for the dataset from the HuggingFace Hub.\n",
        "filepath = hf_hub_download(repo_id=\"dspoka/sdg-single\", filename=\"metadata.json\", repo_type=\"dataset\")\n",
        "with open(filepath) as f:\n",
        "    metadata = json.load(f)\n",
        "\n",
        "# In this method we will unpack the dictionaries and explain what each of the metadata means\n",
        "goal_idx_2_description, goal_idx_2_goal_number, target_idx_2_description, target_idx_2_goal_idx, target_idx_2_target_number = unpack_and_explain_metadata(metadata)"
      ]
    },
    {
      "cell_type": "markdown",
      "metadata": {
        "id": "DWz17mtxYEen"
      },
      "source": [
        "### So lets look at a row of our dataset df_full and see how to use the metadata to understand it."
      ]
    },
    {
      "cell_type": "code",
      "execution_count": null,
      "metadata": {
        "id": "doaGm4-pYEeo",
        "outputId": "44f608f6-fe13-42a1-8bdc-f0c64b73a1a9"
      },
      "outputs": [
        {
          "name": "stdout",
          "output_type": "stream",
          "text": [
            "iso3                                                               AFG\n",
            "country                                                    Afghanistan\n",
            "goal                                                                12\n",
            "target                                                            12.2\n",
            "text                 Reduce rural peoples’ dependence on fuel for c...\n",
            "status                                                          future\n",
            "sector                                               energy efficiency\n",
            "response                                                    mitigation\n",
            "infotype                                                needs_and_gaps\n",
            "start                                                          28031.0\n",
            "end                                                            28096.0\n",
            "filename                                         AFG-first_ndc-EN.html\n",
            "__index_level_0__                                                    0\n",
            "Name: 0, dtype: object\n",
            "Text Reduce rural peoples’ dependence on fuel for cooking and heating.\n"
          ]
        }
      ],
      "source": [
        "# first row\n",
        "print(df_full.iloc[0])\n",
        "# and here is the text of the first row:\n",
        "print('Text', df_full.iloc[0]['text'])\n"
      ]
    },
    {
      "cell_type": "markdown",
      "metadata": {
        "id": "0i1X4LsZYEeq"
      },
      "source": [
        "### Looking at row\n",
        "- We see that this piece of text is from the NDC of the country \"Afghanistan\" and from this particular file: AFG-first_ndc-EN.html\n",
        "- We also see some other topic labels, such that this is about the \"energy efficiency\" sector, is a type of mitigation Climate Response, and that its current implementation status is \"future\".\n",
        "- We also see that the Sustainable Development Goals (SDG) goal is \"12\" and target is \"12.2\".\n",
        "- Note idx or the index is 0-indexed for both goal_idx and target_idx.\n"
      ]
    },
    {
      "cell_type": "code",
      "execution_count": null,
      "metadata": {
        "id": "cfLbG_qQYEer",
        "outputId": "28c6a090-13ea-4afe-e890-f1b8ae7fda57"
      },
      "outputs": [
        {
          "name": "stdout",
          "output_type": "stream",
          "text": [
            "There are 17 goals in the dataset.\n",
            "The \"12\" goal has this text description:  Ensure sustainable consumption and production patterns\n"
          ]
        }
      ],
      "source": [
        "goal_number = \"12\"\n",
        "goal_idx = None\n",
        "for k,v in goal_idx_2_goal_number.items():\n",
        "    if v == \"12\":\n",
        "        goal_idx = k\n",
        "        break\n",
        "\n",
        "print(f'There are {len(goal_idx_2_description)} goals in the dataset.')\n",
        "print(f'The \"{goal_number}\" goal has this text description: {goal_idx_2_description[goal_idx]}')"
      ]
    },
    {
      "cell_type": "markdown",
      "metadata": {
        "id": "3V3FL7pgYEet"
      },
      "source": [
        "We can also find all targets or subgoals that belong to this goal in specific."
      ]
    },
    {
      "cell_type": "code",
      "execution_count": null,
      "metadata": {
        "id": "1WXR9QznYEeu",
        "outputId": "c2a8cddf-cd62-459a-cb8d-4b6b7a8981ec"
      },
      "outputs": [
        {
          "name": "stdout",
          "output_type": "stream",
          "text": [
            "Target 0 has the following description: By 2030, achieve the sustainable management and efficient use of natural resources\n",
            "Target 9 has the following description: By 2030, substantially reduce waste generation through prevention, reduction, recycling and reuse\n",
            "Target 20 has the following description: Implement the 10-year framework of programmes on sustainable consumption and production, all countries taking action, with developed countries taking the lead, taking into account the development and capabilities of developing countries\n",
            "Target 21 has the following description: By 2020, achieve the environmentally sound management of chemicals and all wastes throughout their life cycle, in accordance with agreed international frameworks, and significantly reduce their release to air, water and soil in order to minimize their adverse impacts on human health and the environment\n",
            "Target 29 has the following description: By 2030, ensure that people everywhere have the relevant information and awareness for sustainable development and lifestyles in harmony with nature\n",
            "Target 31 has the following description: Promote public procurement practices that are sustainable, in accordance with national policies and priorities\n",
            "Target 42 has the following description: Encourage companies, especially large and transnational companies, to adopt sustainable practices and to integrate sustainability information into their reporting cycle\n",
            "Target 48 has the following description: Develop and implement tools to monitor sustainable development impacts for sustainable tourism that creates jobs and promotes local culture and products\n",
            "Target 61 has the following description: By 2030, halve per capita global food waste at the retail and consumer levels and reduce food losses along production and supply chains, including post-harvest losses\n",
            "Target 72 has the following description: Rationalize inefficient fossil-fuel subsidies that encourage wasteful consumption by removing market distortions, in accordance with national circumstances, including by restructuring taxation and phasing out those harmful subsidies, where they exist, to reflect their environmental impacts, taking fully into account the specific needs and conditions of developing countries and minimizing the possible adverse impacts on their development in a manner that protects the poor and the affected communities\n",
            "Target 81 has the following description: Support developing countries to strengthen their scientific and technological capacity to move towards more sustainable patterns of consumption and production\n"
          ]
        }
      ],
      "source": [
        "# Find all target_ids that belong to goal 0\n",
        "target_ids = []\n",
        "for target_id, goal_id in target_idx_2_goal_idx.items():\n",
        "    if goal_id == goal_idx:\n",
        "        target_ids.append(target_id)\n",
        "\n",
        "# And now lets print all the descriptions of the targets that belong to goal 0\n",
        "for target_id in target_ids:\n",
        "    print(f'Target {target_id} has the following description: {target_idx_2_description[target_id]}')"
      ]
    },
    {
      "cell_type": "code",
      "execution_count": null,
      "metadata": {
        "id": "j2EwUvbeYEew",
        "outputId": "9b6e4f65-19af-4952-cbdc-068cf0897d28"
      },
      "outputs": [
        {
          "data": {
            "text/plain": [
              "<Axes: xlabel='goal'>"
            ]
          },
          "execution_count": 11,
          "metadata": {},
          "output_type": "execute_result"
        },
        {
          "data": {
            "image/png": "[encoded data removed]",
            "text/plain": [
              "<Figure size 640x480 with 1 Axes>"
            ]
          },
          "metadata": {},
          "output_type": "display_data"
        }
      ],
      "source": [
        "# Lets also plot the histogram of goals in the dataset\n",
        "df_full['goal'].value_counts().plot(kind='bar')\n",
        "# ! Todo: also maybe add the contigency here to show that many possible predictions are possible?"
      ]
    },
    {
      "cell_type": "markdown",
      "metadata": {
        "id": "9JDYFEc1YEex"
      },
      "source": [
        "<a name=\"simple-prompt\"></a>\n",
        "## Using prompting to classify the text into the correct SDG goal.\n",
        "- In this section we will set up the classification task that we wish to perform.\n",
        "- We will feed in the text from the NDC and have the model predict the corresponding SDG goal.\n",
        "- Unlike in the previous tutorial where we fine-tuned a classifier on supervised data, here we will adopt the strategy of prompting a Large Language Model (LLM) to perform this in a zero-shot and few-shot manner.\n",
        "- First let's do a quick review so that we can understand what prompting is and how it works.\n"
      ]
    },
    {
      "cell_type": "markdown",
      "metadata": {
        "id": "p3kMOcOwYEey"
      },
      "source": [
        "## Large Language Models (LLMs) and Prompting\n",
        "- In the previous tutorial, we fine-tuned a classification head on top of a pretrained transformer model.\n",
        "- Given a sentence the model outputted a vector of dimension 'd' and we added new parameter weights (classification head) to map this vector to a vector of dimension 'k' where 'k' is the number of classes.\n",
        "- Since these classifier's parameters are randomly initialized, we needed to train them on supervised data in order to learn the correct mapping.\n",
        "- This may be limiting if we have too little labeled data or its too expensive to label data.\n",
        "- What if instead of introducing new parameters we could use the same underlying transformer model to also perform the classification task?\n"
      ]
    },
    {
      "cell_type": "markdown",
      "metadata": {
        "id": "7hP4s9heYEey"
      },
      "source": [
        "## Enter Prompting\n",
        "- LLMs are typically pretrained on large amounts of unlabeled text with a self-supervised objective: predicting the next word.\n",
        "- The initial idea of prompting can then be thought as: \"How can we change this classification task such that it falls naturally to next word prediction?\"\n",
        "- Suppose we start with a sentiment classification sentence like \"I loved this movie, it was a blast!\" where the true label is \"positive\".\n",
        "- We can then add a prompt or a template of the form \"{Movie Review}. This movie is {sentiment}\"\n",
        "    - input to model: \"I loved this movie, it was a blast! This movie is\"\n",
        "    - and we can compare the next word prediction probability of the label \"positive\" versus \"negative\".\n",
        "- Whichever is higher is the label we choose.\n",
        "- This is a simple example of prompting, where we reframed sentiment classification to fit with the next word prediction which allows us to use the same pretrained model without any additional parameters.\n",
        "\n",
        "### Current LLMs and Prompting\n",
        "- The simple example above gives intuition for simple prompting but in practice current LLMs are much more flexible with the types of prompts that can be used.\n",
        "- They have been trained on extra datasets for following instructions so that they can perform tasks where the answers don't have to be mapped directly to the next word prediction.\n",
        "- In this first section, we are going to build a simple instruction prompt which will describe our SDG Goal classification task to the model.\n"
      ]
    },
    {
      "cell_type": "code",
      "execution_count": null,
      "metadata": {
        "id": "9jVjv8etAIiQ"
      },
      "outputs": [],
      "source": [
        "import os\n",
        "import pandas as pd\n",
        "import numpy as np\n",
        "import random\n",
        "\n",
        "# set seeds for reproducibility\n",
        "np.random.seed(42)\n",
        "random.seed(42)\n",
        "\n",
        "\n",
        "# lets setup some global variables\n",
        "\n",
        "# for goal prediction this will be the number of classes\n",
        "N_PRED_CLASSES = len(goal_idx_2_goal_number)\n",
        "# this will signify to the model the start of the input text\n",
        "INPUT_MARKER = 'Input Text'\n",
        "\n",
        "# This dictionary just contains the names of the columns to slightly longer names that are easier to understand.\n",
        "column_names = {'goal': 'Sustainable Development Goal', 'target': 'Subgoal', 'status': 'Status', 'sector': 'Sector', 'response': 'Climate Response', 'infotype': 'Information Type'}\n",
        "#"
      ]
    },
    {
      "cell_type": "markdown",
      "metadata": {
        "id": "N-W6b89sYEe1"
      },
      "source": [
        "### Constructing the Prompt\n",
        "- We are going to construct the prompt in two parts: instructions at the top and the input text to classify at the bottom."
      ]
    },
    {
      "cell_type": "code",
      "execution_count": null,
      "metadata": {
        "id": "1d4iyMEKYEe3",
        "outputId": "3f2d91aa-dfb7-4718-992a-977ab33bd566"
      },
      "outputs": [
        {
          "name": "stdout",
          "output_type": "stream",
          "text": [
            "Given the following Input Text predict the Sustainable Development Goal (goal) out of the following 17 options:\n",
            "Sustainable Development Goal\n",
            "1: End poverty in all its forms everywhere\n",
            "2: End hunger, achieve food security and improved nutrition and promote sustainable agriculture\n",
            "3: Ensure healthy lives and promote well-being for all at all ages\n",
            "4: Ensure inclusive and equitable quality education and promote lifelong learning opportunities for all\n",
            "5: Achieve gender equality and empower all women and girls\n",
            "6: Ensure availability and sustainable management of water and sanitation for all\n",
            "7: Ensure access to affordable, reliable, sustainable and modern energy for all\n",
            "8: Promote sustained, inclusive and sustainable economic growth, full and productive employment and decent work for all\n",
            "9: Build resilient infrastructure, promote inclusive and sustainable industrialization and foster innovation\n",
            "10: Reduce inequality within and among countries\n",
            "11: Make cities and human settlements inclusive, safe, resilient and sustainable\n",
            "12: Ensure sustainable consumption and production patterns\n",
            "13: Take urgent action to combat climate change and its impacts\n",
            "14: Conserve and sustainably use the oceans, seas and marine resources for sustainable development\n",
            "15: Protect, restore and promote sustainable use of terrestrial ecosystems, sustainably manage forests, combat desertification, and halt and reverse land degradation and halt biodiversity loss\n",
            "16: Promote peaceful and inclusive societies for sustainable development, provide access to justice for all and build effective, accountable and inclusive institutions at all levels\n",
            "17: Strengthen the means of implementation and revitalize the global partnership for sustainable development\n",
            "\n",
            "\n"
          ]
        }
      ],
      "source": [
        "# for now we will skip the special_token as well as the what the \"context\" column is.\n",
        "SPECIAL_TOKEN = \"**\"\n",
        "def build_instruction(pred_column, obs_column):\n",
        "    ''' Args:\n",
        "            pred_column (str): the column that we are predicting\n",
        "            obs_column (str): the column that we are observing (e.g. text, context)\n",
        "        Returns:\n",
        "            prompt (str): the prompt that will be used to query the model\n",
        "\n",
        "    '''\n",
        "    if obs_column == 'text':\n",
        "        # describe what the model's input, task and class options are.\n",
        "        prompt = f'Given the following {INPUT_MARKER} predict the {column_names[pred_column]} ({pred_column}) out of the following {N_PRED_CLASSES} options:\\n'\n",
        "    elif obs_column == 'context':\n",
        "        prompt = f'Given the following {INPUT_MARKER}, marked with {SPECIAL_TOKEN} at the start and end. Predict the {column_names[pred_column]} ({pred_column}) out of the following {N_PRED_CLASSES} options:\\n'\n",
        "\n",
        "    # for now we will assume that we are predicting the goal column\n",
        "    assert pred_column == 'goal'\n",
        "    goal_number_2_goal_idx = {v: k for k, v in goal_idx_2_goal_number.items()}\n",
        "\n",
        "    # Here we are building a dictionary that maps the goal number to the goal description\n",
        "    goal_number_2_goal_description = {k:goal_idx_2_description[v] for k, v in goal_number_2_goal_idx.items()}\n",
        "\n",
        "    # we sort this according to the goal number\n",
        "    sorted_keys = sorted(int(k) for k in list(goal_number_2_goal_description.keys()))\n",
        "    sorted_keys = [str(k) for k in sorted_keys]\n",
        "\n",
        "    # build a list of strings where each string is the goal number and the goal description\n",
        "    values = [f'{key}:{goal_number_2_goal_description[key]}' for key in sorted_keys]\n",
        "    name = column_names[pred_column]\n",
        "    # and we join each goal/description with a new line to the intruction\n",
        "    prompt += name + '\\n' +\"\\n\".join(values) + \"\\n\\n\"\n",
        "    return prompt\n",
        "prompt_example = build_instruction(pred_column='goal', obs_column='text')\n",
        "print(prompt_example)"
      ]
    },
    {
      "cell_type": "code",
      "execution_count": null,
      "metadata": {
        "id": "3_PnSCeoYEe4",
        "outputId": "bbfa16ff-c670-42fa-e627-0cadbf986843"
      },
      "outputs": [
        {
          "name": "stdout",
          "output_type": "stream",
          "text": [
            "Given the following Input Text predict the Sustainable Development Goal (goal) out of the following 17 options:\n",
            "Sustainable Development Goal\n",
            "1: End poverty in all its forms everywhere\n",
            "2: End hunger, achieve food security and improved nutrition and promote sustainable agriculture\n",
            "3: Ensure healthy lives and promote well-being for all at all ages\n",
            "4: Ensure inclusive and equitable quality education and promote lifelong learning opportunities for all\n",
            "5: Achieve gender equality and empower all women and girls\n",
            "6: Ensure availability and sustainable management of water and sanitation for all\n",
            "7: Ensure access to affordable, reliable, sustainable and modern energy for all\n",
            "8: Promote sustained, inclusive and sustainable economic growth, full and productive employment and decent work for all\n",
            "9: Build resilient infrastructure, promote inclusive and sustainable industrialization and foster innovation\n",
            "10: Reduce inequality within and among countries\n",
            "11: Make cities and human settlements inclusive, safe, resilient and sustainable\n",
            "12: Ensure sustainable consumption and production patterns\n",
            "13: Take urgent action to combat climate change and its impacts\n",
            "14: Conserve and sustainably use the oceans, seas and marine resources for sustainable development\n",
            "15: Protect, restore and promote sustainable use of terrestrial ecosystems, sustainably manage forests, combat desertification, and halt and reverse land degradation and halt biodiversity loss\n",
            "16: Promote peaceful and inclusive societies for sustainable development, provide access to justice for all and build effective, accountable and inclusive institutions at all levels\n",
            "17: Strengthen the means of implementation and revitalize the global partnership for sustainable development\n",
            "\n",
            "\n",
            "Input Text: Encourage and support the use of renewable energy in agricultural irrigation and in drinking water supply\n",
            "goal:\n"
          ]
        }
      ],
      "source": [
        "def build_single_prompt(row, pred_column, obs_column, test_input_only=False):\n",
        "    ''' Args:\n",
        "        row (pd.Series): a row from the dataframe\n",
        "        obs_column (str): the column that we are observing (e.g. text, context)\n",
        "        test_input_only (bool):\n",
        "            - if True, only return the input text\n",
        "                - This is used for the test example.\n",
        "            - if False, return the input text and the correct answer\n",
        "                - This will be for in-context learning\n",
        "        Returns:\n",
        "            prompt (str): the second portion of the prompt\n",
        "    '''\n",
        "    prompt = f'\\n{INPUT_MARKER}: {row[obs_column]}\\n'\n",
        "    if test_input_only:\n",
        "        return prompt\n",
        "\n",
        "    value = row[pred_column]\n",
        "    prompt += f'{pred_column}:{value}\\n'\n",
        "    prompt += '\\n'\n",
        "    return prompt\n",
        "\n",
        "\n",
        "# sample a random row from the dataframe to use as a test example\n",
        "random_test_row = df_full.sample(1).iloc[0]\n",
        "test_input = build_single_prompt(random_test_row, pred_column='goal', obs_column='text', test_input_only=True)\n",
        "\n",
        "prompt_example += test_input\n",
        "prompt_example += f'{\"goal\"}:'\n",
        "# here we have the full instruction and prompt for the model\n",
        "print(prompt_example)"
      ]
    },
    {
      "cell_type": "markdown",
      "metadata": {
        "id": "x_rdE4XsYEe-"
      },
      "source": [
        "### Let's get model predictions for this test example now"
      ]
    },
    {
      "cell_type": "code",
      "execution_count": null,
      "metadata": {
        "id": "6sqBXO-tYEe_",
        "outputId": "172cff74-2b39-4ad9-ebde-27d85cc60e3d"
      },
      "outputs": [
        {
          "name": "stdout",
          "output_type": "stream",
          "text": [
            "1\n"
          ]
        }
      ],
      "source": [
        "import os\n",
        "\n",
        "# To use the model, you will need to sign up for an OpenAI Account (http://platform.openai.com/signup) and get an API key pasted below.\n",
        "os.environ[\"OPENAI_API_KEY\"] = \"INSERT_YOUR_KEY_HERE\"\n",
        "openai.api_key = os.getenv(\"OPENAI_API_KEY\")\n",
        "\n",
        "# so we will use this particular model\n",
        "MODEL_NAME = \"text-davinci-003\"\n",
        "\n",
        "def get_model_response(test_prompt, pay=False):\n",
        "  ''' test_prompt (str)\n",
        "        - The full text prompt to send to the API for completion.\n",
        "      pay (bool):\n",
        "        - If False, return a dummy response. If True, send the prompt to the model API\n",
        "        - This simple flag to let us test the function without calling the API which costs money.\n",
        "      Returns:\n",
        "        response (dict): the response from the API or a dummy response if Pay is False\n",
        "  '''\n",
        "  if not pay:\n",
        "    # this is a dummy response that always returns the class 3\n",
        "    response = {'choices':[{'text':'3'}]}\n",
        "  else:\n",
        "    response = openai.Completion.create(\n",
        "      model=MODEL_NAME,\n",
        "      prompt=test_prompt,\n",
        "      temperature=0,\n",
        "      max_tokens=4,\n",
        "      top_p=1.0,\n",
        "      frequency_penalty=0.0,\n",
        "      presence_penalty=0.0\n",
        "    )\n",
        "  return response\n",
        "\n",
        "\n",
        "# For now we can just test the function, but you can see what happens by setting pay=True\n",
        "response = get_model_response(prompt_example, pay=False)\n",
        "example_pred = response['choices'][0]['text']\n",
        "print(example_pred)"
      ]
    },
    {
      "cell_type": "code",
      "execution_count": null,
      "metadata": {
        "id": "uiv7yvPHYEfC",
        "outputId": "e6a60b6b-0ad3-4cf0-ff51-b9adf31a845d"
      },
      "outputs": [
        {
          "name": "stdout",
          "output_type": "stream",
          "text": [
            "128 43 43\n",
            "train: (9611, 13)\tval: (2507, 13)\ttest: (2101, 13)\n"
          ]
        }
      ],
      "source": [
        "from sklearn.model_selection import train_test_split\n",
        "def make_new_splits(df):\n",
        "    '''We want to make sure that we split into train/val/test by documents and not by sentences. This helps us ensure that we aren't overfitting to a particular document/country.\n",
        "    Suppose (hyperbolically) that each document only had one SDG class. Then if we split by sentence, the model may overfit by first predicting which country the sentence is from, and then predicting the SDG goal based on that country. This is undesirable and so it is better to split by documents.\n",
        "    Args:\n",
        "        df (pd.DataFrame): the full dataframe\n",
        "    Returns:\n",
        "        df_train (pd.DataFrame): the training dataframe\n",
        "        df_val (pd.DataFrame): the validation dataframe\n",
        "        df_test (pd.DataFrame): the test dataframe\n",
        "    '''\n",
        "    seed = 42\n",
        "    filenames = df['filename'].unique()\n",
        "    train_filenames, test_filenames = train_test_split(filenames, test_size=0.4, random_state=seed)\n",
        "    val_filenames, test_filenames = train_test_split(test_filenames, test_size=0.5, random_state=seed)\n",
        "    print(len(train_filenames), len(val_filenames), len(test_filenames))\n",
        "    df_train = df[df['filename'].isin(train_filenames)]\n",
        "    df_val = df[df['filename'].isin(val_filenames)]\n",
        "    df_test = df[df['filename'].isin(test_filenames)]\n",
        "    print(f'train: {df_train.shape}\\tval: {df_val.shape}\\ttest: {df_test.shape}')\n",
        "    return df_train, df_val, df_test\n",
        "\n",
        "df_train, df_val, df_test = make_new_splits(df_full)"
      ]
    },
    {
      "cell_type": "markdown",
      "metadata": {
        "id": "UYJSbP6KYEfD"
      },
      "source": [
        "<a name=\"icl-prompt\"></a>\n",
        "## In-Context Learning Prompts\n",
        "- Before running and evaluating the model's performance, let's improve our prompt by adding in-context learning (ICL) examples.\n",
        "- So after we describe the instructions for the task, we will now add a few input/output examples that we want the model to match.\n",
        "- We will use a new function \"in_context_prompt\" which is simply a wrapper around the previous functions we used."
      ]
    },
    {
      "cell_type": "code",
      "execution_count": null,
      "metadata": {
        "colab": {
          "base_uri": "https://localhost:8080/"
        },
        "id": "wJn5nUJIAIiQ",
        "outputId": "9e67c5bd-cc05-4644-c255-81efca59bf91"
      },
      "outputs": [
        {
          "name": "stdout",
          "output_type": "stream",
          "text": [
            "Given the following Input Text predict the Sustainable Development Goal (goal) out of the following 17 options:\n",
            "Sustainable Development Goal\n",
            "1: End poverty in all its forms everywhere\n",
            "2: End hunger, achieve food security and improved nutrition and promote sustainable agriculture\n",
            "3: Ensure healthy lives and promote well-being for all at all ages\n",
            "4: Ensure inclusive and equitable quality education and promote lifelong learning opportunities for all\n",
            "5: Achieve gender equality and empower all women and girls\n",
            "6: Ensure availability and sustainable management of water and sanitation for all\n",
            "7: Ensure access to affordable, reliable, sustainable and modern energy for all\n",
            "8: Promote sustained, inclusive and sustainable economic growth, full and productive employment and decent work for all\n",
            "9: Build resilient infrastructure, promote inclusive and sustainable industrialization and foster innovation\n",
            "10: Reduce inequality within and among countries\n",
            "11: Make cities and human settlements inclusive, safe, resilient and sustainable\n",
            "12: Ensure sustainable consumption and production patterns\n",
            "13: Take urgent action to combat climate change and its impacts\n",
            "14: Conserve and sustainably use the oceans, seas and marine resources for sustainable development\n",
            "15: Protect, restore and promote sustainable use of terrestrial ecosystems, sustainably manage forests, combat desertification, and halt and reverse land degradation and halt biodiversity loss\n",
            "16: Promote peaceful and inclusive societies for sustainable development, provide access to justice for all and build effective, accountable and inclusive institutions at all levels\n",
            "17: Strengthen the means of implementation and revitalize the global partnership for sustainable development\n",
            "\n",
            "\n",
            "Input Text: C4.</strong> Promote actions to prevent the establishment, control and eradication of invasive species, diseases and pests, whose impacts are exacerbated by the effects of climate change\n",
            "goal:13\n",
            "\n",
            "\n",
            "Input Text: Power generation from biomass energy: 160 MW of installed power to deliver to the power grid by 2025 (4% of the installed power from the SIN)(*).\n",
            "goal:7\n",
            "\n",
            "\n",
            "Input Text: Enhancing the adaptive capacity of rural economies and natural resources to climate change through the management and protection of land based natural resources and agricultural production systems.\n",
            "goal:12\n",
            "\n",
            "\n",
            "Input Text: Drafting of a regional spatial planning scheme for the different regions with the involvement of local communities\n",
            "goal:16\n",
            "\n",
            "\n",
            "Input Text: nature-based solutions play an important role to solve global challenges such as biodiversity loss and ecosystems degradation, poverty, hunger, health, water scarcity and drought, gender inequality, disaster risk reduction and climate change\n",
            "goal:2\n",
            "\n",
            "\n",
            "Input Text: Cambodia’s main national development priority, enshrined in the National Strategic Development Plan (NSDP) for 2014-2018, is to reduce poverty while fostering economic growth at a steady rate of 7-8% per year<sup class=\"footnote-ref\"><a href=\"#fn2\" id=\"fnref2\">[2]</a></sup>.\n",
            "goal:\n",
            "--------------------------------------------------------------------------------\n",
            "True Goal 1\n"
          ]
        }
      ],
      "source": [
        "def in_context_prompt(df, pred_column, obs_column, num_samples=3):\n",
        "    '''\n",
        "        Args:\n",
        "            df (pd.DataFrame): the dataframe that we are sampling from\n",
        "            pred_column (str): the column that we are predicting\n",
        "            obs_column (str): the column that we are observing\n",
        "            num_samples (int): the number of in-context learning samples to add to the prompt\n",
        "        Returns:\n",
        "            prompt (str): the full prompt for the model\n",
        "    '''\n",
        "    # as before we build the instruction\n",
        "    prompt = build_instruction(pred_column, obs_column)\n",
        "\n",
        "    # for each icl example we sample a random row from the dataframe\n",
        "    for i in range(num_samples):\n",
        "        row = df.sample(1)\n",
        "        # note that we set test_input_only to false since we want to include the goal label for the icl examples\n",
        "        prompt += build_single_prompt(row.iloc[0], pred_column, obs_column, test_input_only=False)\n",
        "    return prompt\n",
        "\n",
        "\n",
        "# We need to split df_full into train/val such that the ICL examples dont overlap with the test example\n",
        "# df_train = df_full.sample(frac=0.8, random_state=42)\n",
        "# df_val = df_full.drop(df_train.index)\n",
        "\n",
        "icl_prompt_example = in_context_prompt(df_train, pred_column='goal', obs_column='text', num_samples=5)\n",
        "\n",
        "# sample a random row from the dataframe to use as a test example\n",
        "random_test_row = df_val.sample(1).iloc[0]\n",
        "test_input = build_single_prompt(random_test_row, pred_column='goal', obs_column='text', test_input_only=True)\n",
        "\n",
        "icl_prompt_example += test_input\n",
        "icl_prompt_example += f'{\"goal\"}:'\n",
        "print(icl_prompt_example)\n",
        "print('-'*80)\n",
        "print('True Goal', random_test_row['goal'])"
      ]
    },
    {
      "cell_type": "markdown",
      "metadata": {
        "id": "HmFrd9T0AIiR"
      },
      "source": [
        "### That's it! We now have a prompt with the instruction, 5 in-context learning examples, and the input text to classify.\n",
        "- For evaluation we will calculate the accuracy of the model on the test set.\n",
        "- Since each sentence can have **multiple** SDG goals labeled, we will calculate whether the model can predict **any** of the correct labels.\n"
      ]
    },
    {
      "cell_type": "code",
      "execution_count": null,
      "metadata": {
        "id": "1Z72mgG2YEfI"
      },
      "outputs": [],
      "source": [
        "def calculate_accuracy(true_, pred_):\n",
        "    ''' Calculate accuracy of predictions\n",
        "        There could be multiple true labels for each example\n",
        "        There is only one predicted label for each example\n",
        "        Args:\n",
        "            true_ (list): list of lists of true labels\n",
        "            pred_ (list): list of predicted labels\n",
        "        Returns:\n",
        "            accuracy (float): the accuracy of the predictions\n",
        "    '''\n",
        "    assert len(true_) == len(pred_)\n",
        "    # accuracy = sum([t==p for t, p in zip(true_, pred_)])/len(true_) # this is when there is only one true label\n",
        "    right = 0\n",
        "    for t, p in zip(true_, pred_):\n",
        "        assert type(t) == list\n",
        "        if p in t:\n",
        "            right += 1\n",
        "    return right/len(true_)\n",
        "\n",
        "def most_common(lst):\n",
        "    ''' helper function to select the most common element in a list\n",
        "        Args:\n",
        "            lst: list of elements\n",
        "        Returns:\n",
        "            most common element in the list\n",
        "    '''\n",
        "    # print('lst', lst)\n",
        "    # print('type(lst)', type(lst)\n",
        "    if type(lst) == str:\n",
        "        return lst\n",
        "    return max(set(lst), key=lst.count)"
      ]
    },
    {
      "cell_type": "markdown",
      "metadata": {
        "id": "GZfVx1FiYEfK"
      },
      "source": [
        "### Finally we are going to put this all together into a run_eval function\n",
        "- This is the function that we will pass different arguments to in order to run different experiments."
      ]
    },
    {
      "cell_type": "code",
      "execution_count": null,
      "metadata": {
        "colab": {
          "base_uri": "https://localhost:8080/"
        },
        "id": "AVTCdFUxAIiR",
        "outputId": "20d134e2-696e-4534-e747-c2043cccac1a"
      },
      "outputs": [
        {
          "name": "stdout",
          "output_type": "stream",
          "text": [
            "accuracy 0.0\n",
            "\n"
          ]
        }
      ],
      "source": [
        "def run_eval(df_train, df_test, pred_column, obs_column, num_samples, num_icl, pay=False):\n",
        "    '''\n",
        "        Args:\n",
        "            df_train (pd.DataFrame): the dataframe that we are sampling from for ICL examples\n",
        "            df_test (pd.DataFrame): the dataframe that we are sampling from for test examples\n",
        "            pred_column (str): the column name that we are predicting\n",
        "            obs_column (str): the column name that we are observing\n",
        "            num_samples (int): the number of test examples to evaluate on\n",
        "            num_icl (int): the number of in-context learning examples to include in the prompt\n",
        "            pay (bool): If False, return a dummy response. If True, send the prompt to the model API\n",
        "        Returns:\n",
        "        true_ (list): list of lists of true labels\n",
        "        pred_ (list): list of predicted labels\n",
        "        test_texts (list): list of the test examples\n",
        "        test_prompt (str): the full last prompt used for the model for debugging/sanity check purposes\n",
        "        test_ids (list): list of the ids of the test examples (this is useful such that the same test examples are not labeled multiple times)\n",
        "\n",
        "\n",
        "    '''\n",
        "    # Note if we set the test_prompt outside the for loop here\n",
        "    # Then are using the same ICL prompt for all test examples.\n",
        "    # If we do so, we can then more easily get batch predictions from the API\n",
        "    # However, if we sample unlucky ICL examples, then the model may not perform as well.\n",
        "    # So we will leave it inside the for loop for now.\n",
        "    # test_prompt = in_context_prompt(df_train, pred_column, obs_column, num_icl)\n",
        "    ################################################################################\n",
        "\n",
        "    # Recall that one piece of text has many goals and targets.\n",
        "    # So in our dataframe there multiple rows which have the same text.\n",
        "    # This line to group makes sure that only unique texts are present.\n",
        "    # It also aggregates the multiple goals for the same text into a list.\n",
        "    df_group = df_test.groupby(obs_column, as_index=False).agg(lambda x: list(x))\n",
        "\n",
        "    ######## Another strategy would be to use majority SDG goal\n",
        "    # assert df_group[pred_column].apply(lambda x: type(x) == list).all()\n",
        "    # df_group['majority'] = df_group[pred_column].apply(lambda x: most_common(x))\n",
        "    ################################################################################\n",
        "\n",
        "\n",
        "    # make sure that the text column is a list and only has one unique element\n",
        "    if obs_column != 'text':\n",
        "        assert df_group['text'].apply(lambda x: len(set(x)) == 1).all()\n",
        "        df_group['text'] = df_group['text'].apply(lambda x: x[0])\n",
        "        assert len(set(df_group['text'])) == 1\n",
        "\n",
        "    # Sample num_samples test examples\n",
        "    test_rows = df_group.sample(num_samples)\n",
        "\n",
        "    # Get the test_ids\n",
        "    test_ids = test_rows['__index_level_0__'].tolist()\n",
        "\n",
        "    true_ = []\n",
        "    pred_ = []\n",
        "    test_texts = []\n",
        "    # For each test example, get the model prediction\n",
        "    for i in range(num_samples):\n",
        "        test_row = test_rows.iloc[i]\n",
        "        text = test_row['text']\n",
        "        true = test_row[pred_column]\n",
        "        assert type(true) == list\n",
        "\n",
        "        test_prompt = in_context_prompt(df_train, pred_column, obs_column, num_icl)\n",
        "        test_input = build_single_prompt(test_row, pred_column, obs_column, test_input_only=True)\n",
        "\n",
        "        test_prompt += test_input\n",
        "        test_prompt += f'{pred_column}:'\n",
        "\n",
        "        test_texts.append(text)\n",
        "        true_.append(true)\n",
        "\n",
        "        response = get_model_response(test_prompt, pay)\n",
        "        pred = response['choices'][0]['text'] #this is hardcoded for openai model\n",
        "        pred_.append(pred)\n",
        "\n",
        "    return true_, pred_, test_texts, test_prompt, test_ids\n",
        "\n",
        "true_, pred_, test_texts, test_prompt, test_ids = run_eval(df_train, df_val, pred_column='goal', obs_column='text', num_samples=10, num_icl=5, pay=False)# switch pay to True to send the prompt to the OpenAI API\n",
        "\n",
        "accuracy = calculate_accuracy(true_, pred_)\n",
        "print('accuracy', accuracy)\n",
        "print()"
      ]
    },
    {
      "cell_type": "markdown",
      "metadata": {
        "id": "Q_Y9K5oGYEfN"
      },
      "source": [
        "### Checking Models Prediction\n",
        "- Recall that since we are using prompting we are interpreting the model's textual output as a label.\n",
        "- We are mapping the model's output of \"3\" to the label which corresponds to SDG Goal \"3\".\n",
        "- But what if the model outputs a label outside of the range of our labels? or even fails to output a number but instead outputs a different word?\n",
        "- We can check for these cases and see how often they occur."
      ]
    },
    {
      "cell_type": "code",
      "execution_count": null,
      "metadata": {
        "id": "RL6SxLLdYEfO",
        "outputId": "80fd5c3e-11bf-471c-ae31-33f951ea7222"
      },
      "outputs": [
        {
          "name": "stdout",
          "output_type": "stream",
          "text": [
            "count_not_digit 0\n",
            "count_in_range 0\n"
          ]
        }
      ],
      "source": [
        "def check_predictions(pred_):\n",
        "    ''' - Sanity check to make sure that all predictions are integers\n",
        "        - and also are indexed in between the number of classes\n",
        "        Args:\n",
        "            pred_ (list): list of predicted labels\n",
        "        Returns:\n",
        "            None\n",
        "    '''\n",
        "    count_not_digit = 0\n",
        "    count_in_range = 0\n",
        "    for p in pred_:\n",
        "        if not p.isdigit():\n",
        "            count_not_digit += 1\n",
        "        elif int(p) not in list(range(1, 1+N_PRED_CLASSES)):\n",
        "            count_in_range += 1\n",
        "        # assert p.isdigit()\n",
        "        # assert int(p) in list(range(1, 1+N_PRED_CLASSES))\n",
        "    print('count_not_digit', count_not_digit)\n",
        "    print('count_in_range', count_in_range)\n",
        "\n",
        "check_predictions(pred_)"
      ]
    },
    {
      "cell_type": "markdown",
      "metadata": {
        "id": "9Qi7Jqz_YEfP"
      },
      "source": [
        "The large models from OpenAI have been tuned specifically to follow complex prompts or instructions. This is one reason why there should be only a few cases where the model fails to output a number or outputs a number outside of the range of our labels."
      ]
    },
    {
      "cell_type": "code",
      "execution_count": null,
      "metadata": {
        "id": "BQpIHwi-YEfP",
        "outputId": "65bca1be-f248-419b-cda5-186e0621aee2"
      },
      "outputs": [
        {
          "name": "stdout",
          "output_type": "stream",
          "text": [
            "avg random acc: 0.0583\n"
          ]
        },
        {
          "data": {
            "image/png": "[encoded data removed]",
            "text/plain": [
              "<Figure size 640x480 with 1 Axes>"
            ]
          },
          "metadata": {},
          "output_type": "display_data"
        }
      ],
      "source": [
        "def plot_random_histogram(true_):\n",
        "    ''' Plot a histogram of accuracies of a random classifier\n",
        "        Args:\n",
        "            true_ (list): list of lists of true labels\n",
        "        Returns:\n",
        "            None\n",
        "    '''\n",
        "    num_trials = 1000\n",
        "    random_accuracies = []\n",
        "    for i in range(num_trials):\n",
        "        random_pred = np.random.choice(list(range(1, 1+N_PRED_CLASSES)), size=len(true_))\n",
        "        random_pred = [str(x) for x in random_pred]\n",
        "\n",
        "        random_accuracy = calculate_accuracy(true_, random_pred)\n",
        "\n",
        "        random_accuracies.append(random_accuracy)\n",
        "    # histogram\n",
        "    import matplotlib.pyplot as plt\n",
        "    plt.hist(random_accuracies, bins=20)\n",
        "    avg_acc = np.mean(random_accuracies)\n",
        "\n",
        "    # this is how a random uniform classifier would perform\n",
        "    print(f'avg random acc: {avg_acc}')\n",
        "\n",
        "plot_random_histogram(true_)"
      ]
    },
    {
      "cell_type": "markdown",
      "metadata": {
        "id": "QcYNp3VDYEfR"
      },
      "source": [
        "### Using longer text contexts.\n",
        "- We'll recall that the SDG text has annotations that are actually from the full text National climate action plan documents or NDCs.\n",
        "- The dataset has already been preprocessed to align the text chunks that were annotated with their corresponding start and end indices in the full text documents.\n",
        "- Here we will change the prompts to include longer \"contexts\" around the \"texts\" since this increased context could help the model make better predictions.\n",
        "- Since this longer context may itself have different annotations with different SDG goals, we will also need to make the particular text we want to classify stand out.\n",
        "- For this will change the instruction prompt, the ICL examples, as well as the the test input_text as well to use a special token to mark the text.\n",
        "- To start lets load the full text documents and see how they look."
      ]
    },
    {
      "cell_type": "code",
      "execution_count": null,
      "metadata": {
        "id": "chHh7XsQYEfR"
      },
      "outputs": [],
      "source": [
        "def load_documents_from_hub():\n",
        "    '''\n",
        "        Load the full text of the documents from the huggingface hub.\n",
        "        Returns:\n",
        "            documents (list): list of dictionaries,\n",
        "                each dictionary has the name of the file as the key and the full text as the value\n",
        "    '''\n",
        "    # Download from a dataset\n",
        "    filepath = hf_hub_download(repo_id=\"dspoka/sdg-single\", filename=\"ndc-all.json\", repo_type=\"dataset\")\n",
        "    with open(filepath) as f:\n",
        "        documents = json.load(f)\n",
        "    return documents\n",
        "\n",
        "\n",
        "documents = load_documents_from_hub()"
      ]
    },
    {
      "cell_type": "code",
      "execution_count": null,
      "metadata": {
        "id": "ystkBgPYYEfS",
        "outputId": "814b332a-e3db-4dd4-dbf8-024586a83813"
      },
      "outputs": [
        {
          "name": "stdout",
          "output_type": "stream",
          "text": [
            "Matched train: (8920, 13)\tval: (2507, 13)\ttest: (2101, 13)\n"
          ]
        }
      ],
      "source": [
        "def span_check(span, doc):\n",
        "    ''' Check that the span is valid with some basic assertions\n",
        "        Args:\n",
        "            span (tuple): tuple of (start, end) indices\n",
        "            doc (str): document text\n",
        "        Returns:\n",
        "            None\n",
        "    '''\n",
        "    # check that all starts and ends are within the document\n",
        "    start, end = span\n",
        "    assert start < end\n",
        "    assert start >= 0\n",
        "    assert end <= len(doc)\n",
        "\n",
        "def prepare_matched_df(df):\n",
        "    ''' Prepare the dataframe to be used for matching.\n",
        "        Args:\n",
        "            df (pd.DataFrame): dataframe with the columns 'start' and 'end'\n",
        "        Returns:\n",
        "            df (pd.DataFrame): dataframe where the text was matched with start/end indices\n",
        "    '''\n",
        "\n",
        "    # 1. Lets subselect only data that has been matched by checking whether the start and end indices are present\n",
        "    df = df[df['start'].notnull()]\n",
        "    df = df[df['end'].notnull()]\n",
        "    # 2. Lets also make sure start and end are integers not floats.\n",
        "    df['start'] = df['start'].astype(int)\n",
        "    df['end'] = df['end'].astype(int)\n",
        "    return df\n",
        "\n",
        "# drop rows that don't have start and end indices\n",
        "df_train = prepare_matched_df(df_train)\n",
        "df_val = prepare_matched_df(df_val)\n",
        "df_test = prepare_matched_df(df_test)\n",
        "print(f'Matched train: {df_train.shape}\\tval: {df_val.shape}\\ttest: {df_test.shape}')\n"
      ]
    },
    {
      "cell_type": "code",
      "execution_count": null,
      "metadata": {
        "id": "S8vrDY1MYEfT",
        "outputId": "fd8389c1-4e7d-4401-ae31-4d9a9281ad7b"
      },
      "outputs": [
        {
          "name": "stdout",
          "output_type": "stream",
          "text": [
            "d>Carbon sequestration on forest/rangelands, and forest carbon skills. Funding institutional capacity to monitor and verify projects. Better spatial planning for community and production agriculture. **Reduce rural peoples’ dependence on fuel for cooking and heating.**</td>\n",
            "<td>100 Million/Year</td>\n",
            "</tr>\n",
            "<tr>\n",
            "<td>Industry and Mining</td>\n",
            "<td>Cleaner coal mining, leave-it-in-the-ground approaches, combustion, and transportation of minerals. Hydrocarbon fields manag\n"
          ]
        }
      ],
      "source": [
        "def add_context(df, documents, window_size=200, special_token=\"**\"):\n",
        "    ''' For each sentence add a window of context before and after the sentence.\n",
        "        Add a special token to denote the start and end of the sentence.\n",
        "        Args:\n",
        "            df (pd.DataFrame): dataframe with the columns 'filename', 'start', and 'end'\n",
        "            documents (list): list of dictionaries,\n",
        "            window_size (int): number of characters to include before and after the sentence\n",
        "            special_token (str): special token to denote the start and end of the sentence\n",
        "        Returns:\n",
        "            df (pd.DataFrame): dataframe with the column 'context' added\n",
        "\n",
        "    '''\n",
        "    # add a new column to the dataframe called 'context'\n",
        "    df['context'] = ''\n",
        "    for i, row in df.iterrows():\n",
        "        filename = row['filename']\n",
        "        start = row['start']\n",
        "        end = row['end']\n",
        "        span = (start, end)\n",
        "\n",
        "        doc = documents[filename]\n",
        "        span_check(span, doc)\n",
        "\n",
        "        start_context = max(0, start-window_size)\n",
        "        end_context = min(len(doc), end+window_size)\n",
        "        # print(f'start_context: {start_context}\\tend_context: {end_context}')\n",
        "        context = doc[start_context:start] + special_token + doc[start:end] + special_token + doc[end:end_context]\n",
        "        df.at[i, 'context'] = context\n",
        "    return df\n",
        "\n",
        "\n",
        "WINDOW_SIZE = 200\n",
        "df_train = add_context(df_train, documents, window_size=WINDOW_SIZE, special_token=SPECIAL_TOKEN)\n",
        "df_val = add_context(df_val, documents, window_size=WINDOW_SIZE, special_token=SPECIAL_TOKEN)\n",
        "print(df_train['context'].iloc[0])"
      ]
    },
    {
      "cell_type": "markdown",
      "metadata": {
        "id": "T_Mzeon1YEfU"
      },
      "source": [
        "### We are ready to run evaluation again on the longer contexts\n",
        "- before doing that we are going to include a few house keeping functions to save what we are evaluating and the results of the evaluation\n",
        "- We will also use an eval_dict to keep track of the parameters of our evaluation experiments"
      ]
    },
    {
      "cell_type": "code",
      "execution_count": null,
      "metadata": {
        "id": "_dlq22JsYEfV"
      },
      "outputs": [],
      "source": [
        "OUTPUT_DIR = 'outputs/'\n",
        "if not os.path.exists(OUTPUT_DIR):\n",
        "    os.makedirs(OUTPUT_DIR)\n",
        "\n",
        "def save_json(filename, data):\n",
        "    with open(os.path.join(OUTPUT_DIR, filename), 'w') as f:\n",
        "        json.dump(data, f)\n",
        "\n",
        "def load_json(filename):\n",
        "    with open(os.path.join(OUTPUT_DIR, filename), 'r') as f:\n",
        "        data = json.load(f)\n",
        "    return data"
      ]
    },
    {
      "cell_type": "code",
      "execution_count": null,
      "metadata": {
        "id": "3LDJXsRmYEfX"
      },
      "outputs": [],
      "source": [
        "# You can change the experiment here\n",
        "# If you set pay to True this will use the API\n",
        "# rough cost is 3-5 dollars for ~100 examples. (it depends on the length of the examples)\n",
        "eval_dict = {'num_icl_examples': 5,\n",
        "             'num_eval_samples': 10,\n",
        "            # 'obs_column': 'context',\n",
        "            'obs_column': 'text',\n",
        "            'pred_column': 'goal',\n",
        "            'model_name': MODEL_NAME,\n",
        "            'window_size': WINDOW_SIZE,\n",
        "            'special_token': SPECIAL_TOKEN,\n",
        "            'input_marker': INPUT_MARKER,\n",
        "            'pay': False}\n",
        "\n",
        "# just for shorthand\n",
        "e = eval_dict"
      ]
    },
    {
      "cell_type": "code",
      "execution_count": null,
      "metadata": {
        "id": "OfSOl9m5YEfY",
        "outputId": "83d2d5a4-4903-4ec0-900e-ab1becaa4034"
      },
      "outputs": [
        {
          "name": "stdout",
          "output_type": "stream",
          "text": [
            "In-Context Learning Prompt:\n",
            " Given the following Input Text predict the Sustainable Development Goal (goal) out of the following 17 options:\n",
            "Sustainable Development Goal\n",
            "1: End poverty in all its forms everywhere\n",
            "2: End hunger, achieve food security and improved nutrition and promote sustainable agriculture\n",
            "3: Ensure healthy lives and promote well-being for all at all ages\n",
            "4: Ensure inclusive and equitable quality education and promote lifelong learning opportunities for all\n",
            "5: Achieve gender equality and empower all women and girls\n",
            "6: Ensure availability and sustainable management of water and sanitation for all\n",
            "7: Ensure access to affordable, reliable, sustainable and modern energy for all\n",
            "8: Promote sustained, inclusive and sustainable economic growth, full and productive employment and decent work for all\n",
            "9: Build resilient infrastructure, promote inclusive and sustainable industrialization and foster innovation\n",
            "10: Reduce inequality within and among countries\n",
            "11: Make cities and human settlements inclusive, safe, resilient and sustainable\n",
            "12: Ensure sustainable consumption and production patterns\n",
            "13: Take urgent action to combat climate change and its impacts\n",
            "14: Conserve and sustainably use the oceans, seas and marine resources for sustainable development\n",
            "15: Protect, restore and promote sustainable use of terrestrial ecosystems, sustainably manage forests, combat desertification, and halt and reverse land degradation and halt biodiversity loss\n",
            "16: Promote peaceful and inclusive societies for sustainable development, provide access to justice for all and build effective, accountable and inclusive institutions at all levels\n",
            "17: Strengthen the means of implementation and revitalize the global partnership for sustainable development\n",
            "\n",
            "\n",
            "Input Text: Establishment of model cattle farms with silvopastoral systems for demonstrations of environmentally friendly farms.\n",
            "goal:2\n",
            "\n",
            "\n",
            "Input Text: nature-based solutions play an important role to solve global challenges such as biodiversity loss and ecosystems degradation, poverty, hunger, health, water scarcity and drought, gender inequality, disaster risk reduction and climate change\n",
            "goal:15\n",
            "\n",
            "\n",
            "Input Text: Increasing public awareness to water related issue\n",
            "goal:12\n",
            "\n",
            "\n",
            "Input Text: Reduction of loss in transmission and distribution networks\n",
            "goal:7\n",
            "\n",
            "\n",
            "Input Text: Implementation of control, monitoring, and tracking systems for the appropriate use of areas of forest life\n",
            "goal:15\n",
            "\n",
            "\n",
            "Input Text: These associations would induce the transfer of technologies and inputs to farmers, not to mention social actions, in a spirit of respect for the soil and the biological richness of the surrounding environment (creation of micro-biological reserves).\n",
            "goal:\n",
            "--------------------------------------------------------------------------------\n",
            "accuracy 0.0\n",
            "--------------------------------------------------------------------------------\n"
          ]
        }
      ],
      "source": [
        "true_, pred_, test_text, test_prompt, test_ids = run_eval(df_train, df_val, e['pred_column'],\n",
        "                                            e['obs_column'], e['num_eval_samples'],\n",
        "                                            e['num_icl_examples'], e['pay'])\n",
        "\n",
        "results = {'true': true_, 'pred': pred_, 'test_text': test_text, 'test_prompt': test_prompt, 'test_ids': test_ids}\n",
        "filename = f\"{e['obs_column']}_{e['pred_column']}_icl@{e['num_icl_examples']}\"\n",
        "\n",
        "# make sure to save the results\n",
        "save_json(f'{filename}_results.json', results)\n",
        "# load the results from file\n",
        "results = load_json(f'{filename}_results.json')\n",
        "# unpack the results\n",
        "true_, pred_, test_text, test_prompt, test_ids = results['true'], results['pred'], results['test_text'], results['test_prompt'], results['test_ids']\n",
        "\n",
        "\n",
        "print(f'In-Context Learning Prompt:\\n {test_prompt}')\n",
        "print('-'*80)\n",
        "\n",
        "accuracy = calculate_accuracy(true_, pred_)\n",
        "eval_dict['accuracy'] = accuracy\n",
        "print('accuracy', accuracy)\n",
        "\n",
        "print('-'*80)\n",
        "# save the experiment ran with the accuracy\n",
        "save_json(f'{filename}_eval_dict.json', eval_dict)"
      ]
    }
  ],
  "metadata": {
    "colab": {
      "provenance": []
    },
    "kernelspec": {
      "display_name": "tutorial-IHiCU4EY-py3.8",
      "language": "python",
      "name": "python3"
    },
    "language_info": {
      "codemirror_mode": {
        "name": "ipython",
        "version": 3
      },
      "file_extension": ".py",
      "mimetype": "text/x-python",
      "name": "python",
      "nbconvert_exporter": "python",
      "pygments_lexer": "ipython3",
      "version": "3.8.0"
    },
    "orig_nbformat": 4,
    "widgets": {
      "application/vnd.jupyter.widget-state+json": {
        "0a8d3c8e28964a2b83dbf16902bf35a3": {
          "model_module": "@jupyter-widgets/controls",
          "model_module_version": "1.5.0",
          "model_name": "DescriptionStyleModel",
          "state": {
            "_model_module": "@jupyter-widgets/controls",
            "_model_module_version": "1.5.0",
            "_model_name": "DescriptionStyleModel",
            "_view_count": null,
            "_view_module": "@jupyter-widgets/base",
            "_view_module_version": "1.2.0",
            "_view_name": "StyleView",
            "description_width": ""
          }
        },
        "30058e6b100a4837b21bee31c619f7c7": {
          "model_module": "@jupyter-widgets/base",
          "model_module_version": "1.2.0",
          "model_name": "LayoutModel",
          "state": {
            "_model_module": "@jupyter-widgets/base",
            "_model_module_version": "1.2.0",
            "_model_name": "LayoutModel",
            "_view_count": null,
            "_view_module": "@jupyter-widgets/base",
            "_view_module_version": "1.2.0",
            "_view_name": "LayoutView",
            "align_content": null,
            "align_items": null,
            "align_self": null,
            "border": null,
            "bottom": null,
            "display": null,
            "flex": null,
            "flex_flow": null,
            "grid_area": null,
            "grid_auto_columns": null,
            "grid_auto_flow": null,
            "grid_auto_rows": null,
            "grid_column": null,
            "grid_gap": null,
            "grid_row": null,
            "grid_template_areas": null,
            "grid_template_columns": null,
            "grid_template_rows": null,
            "height": null,
            "justify_content": null,
            "justify_items": null,
            "left": null,
            "margin": null,
            "max_height": null,
            "max_width": null,
            "min_height": null,
            "min_width": null,
            "object_fit": null,
            "object_position": null,
            "order": null,
            "overflow": null,
            "overflow_x": null,
            "overflow_y": null,
            "padding": null,
            "right": null,
            "top": null,
            "visibility": null,
            "width": null
          }
        },
        "5b515b9cf3be4941b350a11e24aa8c26": {
          "model_module": "@jupyter-widgets/controls",
          "model_module_version": "1.5.0",
          "model_name": "DescriptionStyleModel",
          "state": {
            "_model_module": "@jupyter-widgets/controls",
            "_model_module_version": "1.5.0",
            "_model_name": "DescriptionStyleModel",
            "_view_count": null,
            "_view_module": "@jupyter-widgets/base",
            "_view_module_version": "1.2.0",
            "_view_name": "StyleView",
            "description_width": ""
          }
        },
        "ab879f6b5c0e48e6a88fcef30c4a0dc5": {
          "model_module": "@jupyter-widgets/controls",
          "model_module_version": "1.5.0",
          "model_name": "HBoxModel",
          "state": {
            "_dom_classes": [],
            "_model_module": "@jupyter-widgets/controls",
            "_model_module_version": "1.5.0",
            "_model_name": "HBoxModel",
            "_view_count": null,
            "_view_module": "@jupyter-widgets/controls",
            "_view_module_version": "1.5.0",
            "_view_name": "HBoxView",
            "box_style": "",
            "children": [
              "IPY_MODEL_b60848d12d9d4743b648ebaf43122d87",
              "IPY_MODEL_bdf310baec9e4bb292a616a1c9941b44",
              "IPY_MODEL_cc76fa30bf2745899ebb1a4fdc108139"
            ],
            "layout": "IPY_MODEL_af3ccb7b556948449f317600d1361158"
          }
        },
        "af3ccb7b556948449f317600d1361158": {
          "model_module": "@jupyter-widgets/base",
          "model_module_version": "1.2.0",
          "model_name": "LayoutModel",
          "state": {
            "_model_module": "@jupyter-widgets/base",
            "_model_module_version": "1.2.0",
            "_model_name": "LayoutModel",
            "_view_count": null,
            "_view_module": "@jupyter-widgets/base",
            "_view_module_version": "1.2.0",
            "_view_name": "LayoutView",
            "align_content": null,
            "align_items": null,
            "align_self": null,
            "border": null,
            "bottom": null,
            "display": null,
            "flex": null,
            "flex_flow": null,
            "grid_area": null,
            "grid_auto_columns": null,
            "grid_auto_flow": null,
            "grid_auto_rows": null,
            "grid_column": null,
            "grid_gap": null,
            "grid_row": null,
            "grid_template_areas": null,
            "grid_template_columns": null,
            "grid_template_rows": null,
            "height": null,
            "justify_content": null,
            "justify_items": null,
            "left": null,
            "margin": null,
            "max_height": null,
            "max_width": null,
            "min_height": null,
            "min_width": null,
            "object_fit": null,
            "object_position": null,
            "order": null,
            "overflow": null,
            "overflow_x": null,
            "overflow_y": null,
            "padding": null,
            "right": null,
            "top": null,
            "visibility": null,
            "width": null
          }
        },
        "b60848d12d9d4743b648ebaf43122d87": {
          "model_module": "@jupyter-widgets/controls",
          "model_module_version": "1.5.0",
          "model_name": "HTMLModel",
          "state": {
            "_dom_classes": [],
            "_model_module": "@jupyter-widgets/controls",
            "_model_module_version": "1.5.0",
            "_model_name": "HTMLModel",
            "_view_count": null,
            "_view_module": "@jupyter-widgets/controls",
            "_view_module_version": "1.5.0",
            "_view_name": "HTMLView",
            "description": "",
            "description_tooltip": null,
            "layout": "IPY_MODEL_c866b6073eb54001aeede1a87f4c79a2",
            "placeholder": "​",
            "style": "IPY_MODEL_5b515b9cf3be4941b350a11e24aa8c26",
            "value": "100%"
          }
        },
        "bdf310baec9e4bb292a616a1c9941b44": {
          "model_module": "@jupyter-widgets/controls",
          "model_module_version": "1.5.0",
          "model_name": "FloatProgressModel",
          "state": {
            "_dom_classes": [],
            "_model_module": "@jupyter-widgets/controls",
            "_model_module_version": "1.5.0",
            "_model_name": "FloatProgressModel",
            "_view_count": null,
            "_view_module": "@jupyter-widgets/controls",
            "_view_module_version": "1.5.0",
            "_view_name": "ProgressView",
            "bar_style": "success",
            "description": "",
            "description_tooltip": null,
            "layout": "IPY_MODEL_daad8401c7b54fb98b488587d455d7e4",
            "max": 1,
            "min": 0,
            "orientation": "horizontal",
            "style": "IPY_MODEL_e267c4404b5145fb9465d5a89e86da1b",
            "value": 1
          }
        },
        "c866b6073eb54001aeede1a87f4c79a2": {
          "model_module": "@jupyter-widgets/base",
          "model_module_version": "1.2.0",
          "model_name": "LayoutModel",
          "state": {
            "_model_module": "@jupyter-widgets/base",
            "_model_module_version": "1.2.0",
            "_model_name": "LayoutModel",
            "_view_count": null,
            "_view_module": "@jupyter-widgets/base",
            "_view_module_version": "1.2.0",
            "_view_name": "LayoutView",
            "align_content": null,
            "align_items": null,
            "align_self": null,
            "border": null,
            "bottom": null,
            "display": null,
            "flex": null,
            "flex_flow": null,
            "grid_area": null,
            "grid_auto_columns": null,
            "grid_auto_flow": null,
            "grid_auto_rows": null,
            "grid_column": null,
            "grid_gap": null,
            "grid_row": null,
            "grid_template_areas": null,
            "grid_template_columns": null,
            "grid_template_rows": null,
            "height": null,
            "justify_content": null,
            "justify_items": null,
            "left": null,
            "margin": null,
            "max_height": null,
            "max_width": null,
            "min_height": null,
            "min_width": null,
            "object_fit": null,
            "object_position": null,
            "order": null,
            "overflow": null,
            "overflow_x": null,
            "overflow_y": null,
            "padding": null,
            "right": null,
            "top": null,
            "visibility": null,
            "width": null
          }
        },
        "cc76fa30bf2745899ebb1a4fdc108139": {
          "model_module": "@jupyter-widgets/controls",
          "model_module_version": "1.5.0",
          "model_name": "HTMLModel",
          "state": {
            "_dom_classes": [],
            "_model_module": "@jupyter-widgets/controls",
            "_model_module_version": "1.5.0",
            "_model_name": "HTMLModel",
            "_view_count": null,
            "_view_module": "@jupyter-widgets/controls",
            "_view_module_version": "1.5.0",
            "_view_name": "HTMLView",
            "description": "",
            "description_tooltip": null,
            "layout": "IPY_MODEL_30058e6b100a4837b21bee31c619f7c7",
            "placeholder": "​",
            "style": "IPY_MODEL_0a8d3c8e28964a2b83dbf16902bf35a3",
            "value": " 1/1 [00:00&lt;00:00, 41.42it/s]"
          }
        },
        "daad8401c7b54fb98b488587d455d7e4": {
          "model_module": "@jupyter-widgets/base",
          "model_module_version": "1.2.0",
          "model_name": "LayoutModel",
          "state": {
            "_model_module": "@jupyter-widgets/base",
            "_model_module_version": "1.2.0",
            "_model_name": "LayoutModel",
            "_view_count": null,
            "_view_module": "@jupyter-widgets/base",
            "_view_module_version": "1.2.0",
            "_view_name": "LayoutView",
            "align_content": null,
            "align_items": null,
            "align_self": null,
            "border": null,
            "bottom": null,
            "display": null,
            "flex": null,
            "flex_flow": null,
            "grid_area": null,
            "grid_auto_columns": null,
            "grid_auto_flow": null,
            "grid_auto_rows": null,
            "grid_column": null,
            "grid_gap": null,
            "grid_row": null,
            "grid_template_areas": null,
            "grid_template_columns": null,
            "grid_template_rows": null,
            "height": null,
            "justify_content": null,
            "justify_items": null,
            "left": null,
            "margin": null,
            "max_height": null,
            "max_width": null,
            "min_height": null,
            "min_width": null,
            "object_fit": null,
            "object_position": null,
            "order": null,
            "overflow": null,
            "overflow_x": null,
            "overflow_y": null,
            "padding": null,
            "right": null,
            "top": null,
            "visibility": null,
            "width": null
          }
        },
        "e267c4404b5145fb9465d5a89e86da1b": {
          "model_module": "@jupyter-widgets/controls",
          "model_module_version": "1.5.0",
          "model_name": "ProgressStyleModel",
          "state": {
            "_model_module": "@jupyter-widgets/controls",
            "_model_module_version": "1.5.0",
            "_model_name": "ProgressStyleModel",
            "_view_count": null,
            "_view_module": "@jupyter-widgets/base",
            "_view_module_version": "1.2.0",
            "_view_name": "StyleView",
            "bar_color": null,
            "description_width": ""
          }
        }
      }
    }
  },
  "nbformat": 4,
  "nbformat_minor": 0
}